{
  "nbformat": 4,
  "nbformat_minor": 0,
  "metadata": {
    "colab": {
      "name": "Keras_mnist_1",
      "provenance": [],
      "authorship_tag": "ABX9TyOblonq2bZDckRJSTQNaCEQ",
      "include_colab_link": true
    },
    "kernelspec": {
      "name": "python3",
      "display_name": "Python 3"
    }
  },
  "cells": [
    {
      "cell_type": "markdown",
      "metadata": {
        "id": "view-in-github",
        "colab_type": "text"
      },
      "source": [
        "<a href=\"https://colab.research.google.com/github/mathrhino/tensorflow/blob/main/Keras_mnist_1.ipynb\" target=\"_parent\"><img src=\"https://colab.research.google.com/assets/colab-badge.svg\" alt=\"Open In Colab\"/></a>"
      ]
    },
    {
      "cell_type": "markdown",
      "metadata": {
        "id": "LIi3VTz4ju-b"
      },
      "source": [
        "##라이브러리 호출##"
      ]
    },
    {
      "cell_type": "code",
      "metadata": {
        "id": "7fZczGKgfSNS"
      },
      "source": [
        "import tensorflow as tf\n",
        "import numpy as np\n",
        "import matplotlib.pyplot as plt \n",
        "from tensorflow.keras import datasets\n",
        "from tensorflow.keras.utils import to_categorical\n",
        "%matplotlib inline "
      ],
      "execution_count": 31,
      "outputs": []
    },
    {
      "cell_type": "markdown",
      "metadata": {
        "id": "UJSeuM5Ij0i5"
      },
      "source": [
        "###데이터 불러오기###"
      ]
    },
    {
      "cell_type": "code",
      "metadata": {
        "id": "VVsN_QDpfUkl"
      },
      "source": [
        "mnist = datasets.mnist"
      ],
      "execution_count": 32,
      "outputs": []
    },
    {
      "cell_type": "markdown",
      "metadata": {
        "id": "2g-WiCeij4MS"
      },
      "source": [
        "####데이터 셋 나누기####"
      ]
    },
    {
      "cell_type": "code",
      "metadata": {
        "id": "erdAzkqJfxv6"
      },
      "source": [
        "(train_x, train_y), (test_x, test_y) = mnist.load_data()"
      ],
      "execution_count": 33,
      "outputs": []
    },
    {
      "cell_type": "code",
      "metadata": {
        "id": "tZN11BDAf6Xx",
        "outputId": "93c82244-18b9-453e-a0e1-62a9fb15fa7b",
        "colab": {
          "base_uri": "https://localhost:8080/"
        }
      },
      "source": [
        "train_x.shape"
      ],
      "execution_count": 34,
      "outputs": [
        {
          "output_type": "execute_result",
          "data": {
            "text/plain": [
              "(60000, 28, 28)"
            ]
          },
          "metadata": {
            "tags": []
          },
          "execution_count": 34
        }
      ]
    },
    {
      "cell_type": "code",
      "metadata": {
        "id": "jkKMiYpCgD0_",
        "outputId": "704fc399-754f-4a49-c2f7-760696b09568",
        "colab": {
          "base_uri": "https://localhost:8080/"
        }
      },
      "source": [
        "image=train_x[0]\n",
        "image.shape"
      ],
      "execution_count": 35,
      "outputs": [
        {
          "output_type": "execute_result",
          "data": {
            "text/plain": [
              "(28, 28)"
            ]
          },
          "metadata": {
            "tags": []
          },
          "execution_count": 35
        }
      ]
    },
    {
      "cell_type": "markdown",
      "metadata": {
        "id": "vYgk7oJwj-0B"
      },
      "source": [
        "####데이터 시각화####"
      ]
    },
    {
      "cell_type": "code",
      "metadata": {
        "id": "7-HIC8HhgJ9J",
        "outputId": "16c0f055-2334-49d7-9d3d-84f7bb25d0ad",
        "colab": {
          "base_uri": "https://localhost:8080/",
          "height": 265
        }
      },
      "source": [
        "plt.imshow(image, 'gray')\n",
        "plt.show()"
      ],
      "execution_count": 36,
      "outputs": [
        {
          "output_type": "display_data",
          "data": {
            "image/png": "[encoded data removed]",
            "text/plain": [
              "<Figure size 432x288 with 1 Axes>"
            ]
          },
          "metadata": {
            "tags": [],
            "needs_background": "light"
          }
        }
      ]
    },
    {
      "cell_type": "code",
      "metadata": {
        "id": "RKaV9Cw9gXUf"
      },
      "source": [
        ""
      ],
      "execution_count": 36,
      "outputs": []
    },
    {
      "cell_type": "markdown",
      "metadata": {
        "id": "dzXdCWXAkftx"
      },
      "source": [
        "##ONE HOT ENCODING##\n",
        "###tensorflow.keras.utils import to_categorical###"
      ]
    },
    {
      "cell_type": "code",
      "metadata": {
        "id": "c_cAGT5PkHAX",
        "outputId": "81e83d7a-c26a-44a8-a7fd-26b6743ad23f",
        "colab": {
          "base_uri": "https://localhost:8080/"
        }
      },
      "source": [
        "to_categorical(1,5)"
      ],
      "execution_count": 37,
      "outputs": [
        {
          "output_type": "execute_result",
          "data": {
            "text/plain": [
              "array([0., 1., 0., 0., 0.], dtype=float32)"
            ]
          },
          "metadata": {
            "tags": []
          },
          "execution_count": 37
        }
      ]
    },
    {
      "cell_type": "code",
      "metadata": {
        "id": "z11BFlWRk2jL",
        "outputId": "b9c7cef6-b2c8-429a-f9a0-d8491cea7c6a",
        "colab": {
          "base_uri": "https://localhost:8080/"
        }
      },
      "source": [
        "label = train_y[0]\n",
        "label"
      ],
      "execution_count": 38,
      "outputs": [
        {
          "output_type": "execute_result",
          "data": {
            "text/plain": [
              "5"
            ]
          },
          "metadata": {
            "tags": []
          },
          "execution_count": 38
        }
      ]
    },
    {
      "cell_type": "code",
      "metadata": {
        "id": "0sPeqQCDlFgk",
        "outputId": "acf5ec16-09a9-44fb-f14b-20f490800ad2",
        "colab": {
          "base_uri": "https://localhost:8080/"
        }
      },
      "source": [
        "label_onehot = to_categorical(label, num_classes=10)\n",
        "label_onehot"
      ],
      "execution_count": 39,
      "outputs": [
        {
          "output_type": "execute_result",
          "data": {
            "text/plain": [
              "array([0., 0., 0., 0., 0., 1., 0., 0., 0., 0.], dtype=float32)"
            ]
          },
          "metadata": {
            "tags": []
          },
          "execution_count": 39
        }
      ]
    },
    {
      "cell_type": "code",
      "metadata": {
        "id": "IKLKqoD_lNRU",
        "outputId": "8642c2eb-5dbb-411e-ca53-d740a2a16cff",
        "colab": {
          "base_uri": "https://localhost:8080/",
          "height": 336
        }
      },
      "source": [
        " plt.title(label_onehot)\n",
        " plt.imshow(train_x[0],'gray')\n",
        " plt.show()"
      ],
      "execution_count": 40,
      "outputs": [
        {
          "output_type": "stream",
          "text": [
            "/usr/local/lib/python3.6/dist-packages/matplotlib/text.py:1165: FutureWarning: elementwise comparison failed; returning scalar instead, but in the future will perform elementwise comparison\n",
            "  if s != self._text:\n"
          ],
          "name": "stderr"
        },
        {
          "output_type": "display_data",
          "data": {
            "image/png": "[encoded data removed]",
            "text/plain": [
              "<Figure size 432x288 with 1 Axes>"
            ]
          },
          "metadata": {
            "tags": [],
            "needs_background": "light"
          }
        }
      ]
    },
    {
      "cell_type": "markdown",
      "metadata": {
        "id": "32ie3h5DkEAX"
      },
      "source": [
        "####차원 늘리기####\n",
        "np.expand_dims\n",
        "tf.expand_dims\n",
        "tf.newaxis\n",
        "reshpae"
      ]
    },
    {
      "cell_type": "code",
      "metadata": {
        "id": "4u1xqD1JlYTy",
        "outputId": "0986ccce-63bf-4ffa-ebeb-af6bcdc5692f",
        "colab": {
          "base_uri": "https://localhost:8080/"
        }
      },
      "source": [
        "#image= image[tf.newaxis, ..., tf.newaxis]\n",
        "image = image. reshape([1,28,28,1])\n",
        "image.shape"
      ],
      "execution_count": 56,
      "outputs": [
        {
          "output_type": "execute_result",
          "data": {
            "text/plain": [
              "(1, 28, 28, 1)"
            ]
          },
          "metadata": {
            "tags": []
          },
          "execution_count": 56
        }
      ]
    },
    {
      "cell_type": "markdown",
      "metadata": {
        "id": "YwwMSZZPBvTE"
      },
      "source": [
        "##filters: layer output을 몇 개의 filter로 정할 건지##\n",
        "##kernel_Size= filter 또는 weight의 크기##\n",
        "##strides는 pixel을 이동할 때 얼만큼 이동 할 것인지##\n",
        "##padding은 마지막 픽셀 주위에 0값을 채울 것인지? VALID, SAME##\n",
        "\n"
      ]
    },
    {
      "cell_type": "code",
      "metadata": {
        "id": "5D9RQnCSBT1K"
      },
      "source": [
        "layer=tf.keras.layers.Conv2D(filters=3,kernel_size=(3,3),strides=(1,1), padding='SAME',activation='relu')"
      ],
      "execution_count": 57,
      "outputs": []
    },
    {
      "cell_type": "markdown",
      "metadata": {
        "id": "cebMSQBTC_vH"
      },
      "source": [
        "##type 변경##"
      ]
    },
    {
      "cell_type": "code",
      "metadata": {
        "id": "OZxSRPWuCP77"
      },
      "source": [
        "image= tf.cast(image, dtype=tf.float32)"
      ],
      "execution_count": 60,
      "outputs": []
    },
    {
      "cell_type": "code",
      "metadata": {
        "id": "iSuS02MqC10R"
      },
      "source": [
        "output=layer(image)"
      ],
      "execution_count": 61,
      "outputs": []
    },
    {
      "cell_type": "code",
      "metadata": {
        "id": "lvttElywC70M",
        "outputId": "c99feeec-09f8-44d8-c65a-b138994c8ebd",
        "colab": {
          "base_uri": "https://localhost:8080/",
          "height": 200
        }
      },
      "source": [
        "plt.subplot(1,2,1)\n",
        "plt.imshow(image[0,:,:,0],'gray')\n",
        "plt.subplot(1,2,2)\n",
        "plt.imshow(output[0,:,:,0],'gray')\n",
        "plt.show()"
      ],
      "execution_count": 64,
      "outputs": [
        {
          "output_type": "display_data",
          "data": {
            "image/png": "[encoded data removed]",
            "text/plain": [
              "<Figure size 432x288 with 2 Axes>"
            ]
          },
          "metadata": {
            "tags": [],
            "needs_background": "light"
          }
        }
      ]
    },
    {
      "cell_type": "code",
      "metadata": {
        "id": "pKzEoc4FDfva",
        "outputId": "aed3eb42-0d98-411e-e4a5-984a81c98908",
        "colab": {
          "base_uri": "https://localhost:8080/"
        }
      },
      "source": [
        "np.min(output),np.max(output)"
      ],
      "execution_count": 67,
      "outputs": [
        {
          "output_type": "execute_result",
          "data": {
            "text/plain": [
              "(0.0, 362.1063)"
            ]
          },
          "metadata": {
            "tags": []
          },
          "execution_count": 67
        }
      ]
    },
    {
      "cell_type": "code",
      "metadata": {
        "id": "ueSGTG_UHRqy",
        "outputId": "269a11a4-b373-4d78-81fd-47bc32307eca",
        "colab": {
          "base_uri": "https://localhost:8080/"
        }
      },
      "source": [
        "weight=layer.get_weights()\n",
        "weight[0].shape, weight[1].shape"
      ],
      "execution_count": 74,
      "outputs": [
        {
          "output_type": "execute_result",
          "data": {
            "text/plain": [
              "((3, 3, 1, 3), (3,))"
            ]
          },
          "metadata": {
            "tags": []
          },
          "execution_count": 74
        }
      ]
    },
    {
      "cell_type": "code",
      "metadata": {
        "id": "-cs-1OgQGwKQ",
        "outputId": "fcb806bd-1713-4603-f0f1-f681e9012ac8",
        "colab": {
          "base_uri": "https://localhost:8080/",
          "height": 324
        }
      },
      "source": [
        "plt.figure(figsize=(15,5))\n",
        "plt.subplot(131)\n",
        "plt.hist(output.numpy().ravel(),range=[-2,2])\n",
        "plt.ylim(0,100)\n",
        "plt.subplot(132)\n",
        "plt.title(weight[0].shape)\n",
        "plt.imshow(weight[0][:,:,0,0],'gray')\n",
        "plt.subplot(133)\n",
        "plt.title(output.shape)\n",
        "plt.imshow(output[0,:,:,0],'gray')\n",
        "plt.colorbar()\n",
        "plt.show()"
      ],
      "execution_count": 77,
      "outputs": [
        {
          "output_type": "display_data",
          "data": {
            "image/png": "[encoded data removed]",
            "text/plain": [
              "<Figure size 1080x360 with 4 Axes>"
            ]
          },
          "metadata": {
            "tags": [],
            "needs_background": "light"
          }
        }
      ]
    },
    {
      "cell_type": "code",
      "metadata": {
        "id": "tExfrcf7I-uI",
        "outputId": "4556fd5a-44b8-480d-a474-da2ed8adb021",
        "colab": {
          "base_uri": "https://localhost:8080/"
        }
      },
      "source": [
        "tf.keras.layers.ReLU()"
      ],
      "execution_count": 78,
      "outputs": [
        {
          "output_type": "execute_result",
          "data": {
            "text/plain": [
              "<tensorflow.python.keras.layers.advanced_activations.ReLU at 0x7f5af60554a8>"
            ]
          },
          "metadata": {
            "tags": []
          },
          "execution_count": 78
        }
      ]
    },
    {
      "cell_type": "code",
      "metadata": {
        "id": "Ah25Yp2EJDHN"
      },
      "source": [
        "act_layer = tf.keras.layers.ReLU()\n",
        "act_output=act_layer(output)"
      ],
      "execution_count": 79,
      "outputs": []
    },
    {
      "cell_type": "code",
      "metadata": {
        "id": "IECy0r2ZJK_l",
        "outputId": "0c3852d5-7e7d-41b5-c816-2ca45708a535",
        "colab": {
          "base_uri": "https://localhost:8080/"
        }
      },
      "source": [
        "output.shape"
      ],
      "execution_count": 81,
      "outputs": [
        {
          "output_type": "execute_result",
          "data": {
            "text/plain": [
              "TensorShape([1, 28, 28, 3])"
            ]
          },
          "metadata": {
            "tags": []
          },
          "execution_count": 81
        }
      ]
    },
    {
      "cell_type": "code",
      "metadata": {
        "id": "IRhGNFspJN_c",
        "outputId": "ff25583e-a203-4e0b-9da7-f8571887b6d6",
        "colab": {
          "base_uri": "https://localhost:8080/"
        }
      },
      "source": [
        "np.min(act_output), np.max(act_output)"
      ],
      "execution_count": 83,
      "outputs": [
        {
          "output_type": "execute_result",
          "data": {
            "text/plain": [
              "(0.0, 362.1063)"
            ]
          },
          "metadata": {
            "tags": []
          },
          "execution_count": 83
        }
      ]
    },
    {
      "cell_type": "code",
      "metadata": {
        "id": "QjlQ6nmYJUCj",
        "outputId": "7bb6229a-b020-499b-b575-3c199c48fc8c",
        "colab": {
          "base_uri": "https://localhost:8080/",
          "height": 336
        }
      },
      "source": [
        "plt.figure(figsize=(15,5))\n",
        "plt.subplot(121)\n",
        "plt.hist(act_output.numpy().ravel(), range=[-2,2])\n",
        "plt.ylim(0, 100)\n",
        "\n",
        "plt.subplot(122)\n",
        "plt.title(act_output.shape)\n",
        "plt.imshow(act_output[0,:,:,0],'gray')\n",
        "plt.show()"
      ],
      "execution_count": 84,
      "outputs": [
        {
          "output_type": "display_data",
          "data": {
            "image/png": "[encoded data removed]",
            "text/plain": [
              "<Figure size 1080x360 with 2 Axes>"
            ]
          },
          "metadata": {
            "tags": [],
            "needs_background": "light"
          }
        }
      ]
    }
  ]
}